{
 "cells": [
  {
   "cell_type": "markdown",
   "id": "baeb4e0c",
   "metadata": {},
   "source": [
    "# Credit Risk Estimation Using Machine Learning\n",
    "\n",
    "This notebook demonstrates how to:\n",
    "\n",
    "1. Simulate synthetic data based on financial statement ratios.\n",
    "2. Train machine learning models to predict:\n",
    "   - **Probability of Default (PD)**\n",
    "   - **Loss Given Default (LGD)**\n",
    "   - **Exposure at Default (EAD)**\n",
    "3. Use the ABC Corp financial statement analysis outputs to derive key ratios.\n",
    "4. Predict PD, LGD, and EAD for ABC Corp.\n",
    "5. Calculate the Expected Loss (EL) using:\n",
    "\n",
    "$$\n",
    "EL = PD \\times LGD \\times EAD\n",
    "$$\n"
   ]
  },
  {
   "cell_type": "code",
   "execution_count": 61,
   "id": "2b941b88",
   "metadata": {},
   "outputs": [],
   "source": [
    "import numpy as np\n",
    "import pandas as pd\n",
    "from sklearn.model_selection import train_test_split\n",
    "from sklearn.ensemble import RandomForestRegressor\n",
    "from sklearn.metrics import mean_squared_error, r2_score\n",
    "import matplotlib.pyplot as plt"
   ]
  },
  {
   "cell_type": "code",
   "execution_count": 62,
   "id": "94dc28ca",
   "metadata": {},
   "outputs": [],
   "source": [
    "# Set random seed for reproducibility\n",
    "np.random.seed(42)\n"
   ]
  },
  {
   "cell_type": "markdown",
   "id": "cc78c527",
   "metadata": {},
   "source": [
    "## 1. Data Simulation\n",
    "\n",
    "We simulate a dataset with 200 samples and the following features based on typical financial ratios:\n",
    "\n",
    "- **current_ratio:** Indicator of liquidity.\n",
    "- **quick_ratio:** More stringent liquidity measure.\n",
    "- **net_profit_margin:** Profitability measure.\n",
    "- **ROA:** Return on Assets.\n",
    "- **ROE:** Return on Equity.\n",
    "- **debt_to_equity:** Leverage measure.\n",
    "- **asset_turnover:** Efficiency measure.\n",
    "\n",
    "And we simulate target variables:\n",
    "\n",
    "- **PD:** Simulated probability of default (between 0 and 1).\n",
    "- **LGD:** Simulated loss given default (percentage between 0 and 1).\n",
    "- **EAD:** Simulated exposure at default (in dollars).\n"
   ]
  },
  {
   "cell_type": "code",
   "execution_count": 63,
   "id": "145a990a",
   "metadata": {},
   "outputs": [],
   "source": [
    "# Number of samples\n",
    "n_samples = 200\n"
   ]
  },
  {
   "cell_type": "code",
   "execution_count": 64,
   "id": "ac992ffb",
   "metadata": {},
   "outputs": [],
   "source": [
    "# Simulate features (random values around realistic means and spreads)\n",
    "data = pd.DataFrame({\n",
    "    'current_ratio': np.random.normal(loc=2.5, scale=0.5, size=n_samples),    # around 2.5\n",
    "    'quick_ratio': np.random.normal(loc=1.8, scale=0.3, size=n_samples),        # around 1.8\n",
    "    'net_profit_margin': np.random.normal(loc=0.23, scale=0.05, size=n_samples),# around 23%\n",
    "    'ROA': np.random.normal(loc=0.35, scale=0.1, size=n_samples),               # around 35%\n",
    "    'ROE': np.random.normal(loc=0.80, scale=0.15, size=n_samples),              # around 80%\n",
    "    'debt_to_equity': np.random.normal(loc=1.3, scale=0.3, size=n_samples),     # around 1.3\n",
    "    'asset_turnover': np.random.normal(loc=1.5, scale=0.3, size=n_samples)        # around 1.5\n",
    "})"
   ]
  },
  {
   "cell_type": "code",
   "execution_count": 65,
   "id": "6c4b30a1",
   "metadata": {},
   "outputs": [],
   "source": [
    "# Clip values to ensure they stay in reasonable ranges\n",
    "data['current_ratio'] = data['current_ratio'].clip(lower=1.0)\n",
    "data['quick_ratio'] = data['quick_ratio'].clip(lower=0.5)\n",
    "data['net_profit_margin'] = data['net_profit_margin'].clip(lower=0, upper=1)\n",
    "data['ROA'] = data['ROA'].clip(lower=0)\n",
    "data['ROE'] = data['ROE'].clip(lower=0)\n",
    "data['debt_to_equity'] = data['debt_to_equity'].clip(lower=0)\n",
    "data['asset_turnover'] = data['asset_turnover'].clip(lower=0)\n"
   ]
  },
  {
   "cell_type": "markdown",
   "id": "97ed69c9",
   "metadata": {},
   "source": [
    "### Simulate Target Variables\n",
    "\n",
    "We assume simplified relationships:\n",
    "\n",
    "- **PD:** Likelihood of default increases with lower liquidity, lower net profit margin, and higher leverage.\n",
    "- **LGD:** Is lower with higher profitability (higher ROA and ROE) and better liquidity.\n",
    "- **EAD:** Scales with asset turnover (a proxy for operation size) plus a base exposure.\n"
   ]
  },
  {
   "cell_type": "code",
   "execution_count": 66,
   "id": "a36a3cc2",
   "metadata": {},
   "outputs": [],
   "source": [
    "# Simulate PD: Lower liquidity and net margin, and higher debt_to_equity contribute to higher PD.\n",
    "data['PD'] = (\n",
    "    0.5 - 0.1 * data['current_ratio'] - 0.1 * data['quick_ratio'] -\n",
    "    0.5 * data['net_profit_margin'] + 0.2 * data['debt_to_equity']\n",
    "    + np.random.normal(scale=0.05, size=n_samples)\n",
    ")\n",
    "data['PD'] = data['PD'].clip(0, 1)\n",
    "\n",
    "# Simulate LGD: Higher profitability and asset efficiency may lower LGD.\n",
    "data['LGD'] = (\n",
    "    0.6 - 0.2 * data['ROA'] - 0.2 * data['ROE'] + 0.1 * data['current_ratio']\n",
    "    + np.random.normal(scale=0.05, size=n_samples)\n",
    ")\n",
    "data['LGD'] = data['LGD'].clip(0, 1)\n",
    "\n",
    "# Simulate EAD: Assume it scales with asset_turnover and includes a base value.\n",
    "data['EAD'] = (\n",
    "    500000 + 200000 * data['asset_turnover'] + np.random.normal(scale=50000, size=n_samples)\n",
    ")\n",
    "data['EAD'] = data['EAD'].clip(lower=100000)\n"
   ]
  },
  {
   "cell_type": "code",
   "execution_count": 67,
   "id": "90757321",
   "metadata": {},
   "outputs": [
    {
     "name": "stdout",
     "output_type": "stream",
     "text": [
      "Simulated Data Head:\n"
     ]
    },
    {
     "data": {
      "text/html": [
       "<div>\n",
       "<style scoped>\n",
       "    .dataframe tbody tr th:only-of-type {\n",
       "        vertical-align: middle;\n",
       "    }\n",
       "\n",
       "    .dataframe tbody tr th {\n",
       "        vertical-align: top;\n",
       "    }\n",
       "\n",
       "    .dataframe thead th {\n",
       "        text-align: right;\n",
       "    }\n",
       "</style>\n",
       "<table border=\"1\" class=\"dataframe\">\n",
       "  <thead>\n",
       "    <tr style=\"text-align: right;\">\n",
       "      <th></th>\n",
       "      <th>current_ratio</th>\n",
       "      <th>quick_ratio</th>\n",
       "      <th>net_profit_margin</th>\n",
       "      <th>ROA</th>\n",
       "      <th>ROE</th>\n",
       "      <th>debt_to_equity</th>\n",
       "      <th>asset_turnover</th>\n",
       "      <th>PD</th>\n",
       "      <th>LGD</th>\n",
       "      <th>EAD</th>\n",
       "    </tr>\n",
       "  </thead>\n",
       "  <tbody>\n",
       "    <tr>\n",
       "      <th>0</th>\n",
       "      <td>2.748357</td>\n",
       "      <td>1.907336</td>\n",
       "      <td>0.150279</td>\n",
       "      <td>0.425699</td>\n",
       "      <td>0.940743</td>\n",
       "      <td>1.719807</td>\n",
       "      <td>1.537567</td>\n",
       "      <td>0.250907</td>\n",
       "      <td>0.592403</td>\n",
       "      <td>902573.004447</td>\n",
       "    </tr>\n",
       "    <tr>\n",
       "      <th>1</th>\n",
       "      <td>2.430868</td>\n",
       "      <td>1.968235</td>\n",
       "      <td>0.200031</td>\n",
       "      <td>0.257783</td>\n",
       "      <td>0.722593</td>\n",
       "      <td>1.577390</td>\n",
       "      <td>1.371178</td>\n",
       "      <td>0.302385</td>\n",
       "      <td>0.715755</td>\n",
       "      <td>771202.626842</td>\n",
       "    </tr>\n",
       "    <tr>\n",
       "      <th>2</th>\n",
       "      <td>2.823844</td>\n",
       "      <td>2.124915</td>\n",
       "      <td>0.230262</td>\n",
       "      <td>0.436961</td>\n",
       "      <td>0.814418</td>\n",
       "      <td>1.317889</td>\n",
       "      <td>1.536689</td>\n",
       "      <td>0.212856</td>\n",
       "      <td>0.599810</td>\n",
       "      <td>771917.511836</td>\n",
       "    </tr>\n",
       "    <tr>\n",
       "      <th>3</th>\n",
       "      <td>3.261515</td>\n",
       "      <td>2.116141</td>\n",
       "      <td>0.232349</td>\n",
       "      <td>0.485564</td>\n",
       "      <td>0.730659</td>\n",
       "      <td>1.105919</td>\n",
       "      <td>1.662989</td>\n",
       "      <td>0.103191</td>\n",
       "      <td>0.642947</td>\n",
       "      <td>756912.162112</td>\n",
       "    </tr>\n",
       "    <tr>\n",
       "      <th>4</th>\n",
       "      <td>2.382923</td>\n",
       "      <td>1.386699</td>\n",
       "      <td>0.207497</td>\n",
       "      <td>0.391343</td>\n",
       "      <td>0.734826</td>\n",
       "      <td>1.509467</td>\n",
       "      <td>1.514658</td>\n",
       "      <td>0.370985</td>\n",
       "      <td>0.588921</td>\n",
       "      <td>712774.620407</td>\n",
       "    </tr>\n",
       "  </tbody>\n",
       "</table>\n",
       "</div>"
      ],
      "text/plain": [
       "   current_ratio  quick_ratio  net_profit_margin       ROA       ROE  \\\n",
       "0       2.748357     1.907336           0.150279  0.425699  0.940743   \n",
       "1       2.430868     1.968235           0.200031  0.257783  0.722593   \n",
       "2       2.823844     2.124915           0.230262  0.436961  0.814418   \n",
       "3       3.261515     2.116141           0.232349  0.485564  0.730659   \n",
       "4       2.382923     1.386699           0.207497  0.391343  0.734826   \n",
       "\n",
       "   debt_to_equity  asset_turnover        PD       LGD            EAD  \n",
       "0        1.719807        1.537567  0.250907  0.592403  902573.004447  \n",
       "1        1.577390        1.371178  0.302385  0.715755  771202.626842  \n",
       "2        1.317889        1.536689  0.212856  0.599810  771917.511836  \n",
       "3        1.105919        1.662989  0.103191  0.642947  756912.162112  \n",
       "4        1.509467        1.514658  0.370985  0.588921  712774.620407  "
      ]
     },
     "metadata": {},
     "output_type": "display_data"
    }
   ],
   "source": [
    "# Display first few rows of the simulated data\n",
    "print(\"Simulated Data Head:\")\n",
    "display(data.head())\n"
   ]
  },
  {
   "cell_type": "markdown",
   "id": "13f72be0",
   "metadata": {},
   "source": [
    "## 2. Model Training for PD, LGD, and EAD\n",
    "\n",
    "We now split our simulated data into training and testing sets and train a Random Forest Regressor for each risk parameter.\n",
    "\n",
    "**Note:** In production, you may use more appropriate models (e.g., logistic regression for PD) and perform thorough hyperparameter tuning.\n"
   ]
  },
  {
   "cell_type": "code",
   "execution_count": 68,
   "id": "56dc4608",
   "metadata": {},
   "outputs": [],
   "source": [
    "# Define features and targets\n",
    "features = ['current_ratio', 'quick_ratio', 'net_profit_margin', 'ROA', 'ROE', 'debt_to_equity', 'asset_turnover']\n",
    "\n",
    "# Split data into train and test sets (80% train, 20% test)\n",
    "train_data, test_data = train_test_split(data, test_size=0.2, random_state=42)\n"
   ]
  },
  {
   "cell_type": "code",
   "execution_count": 69,
   "id": "52b8d523",
   "metadata": {},
   "outputs": [],
   "source": [
    "# Helper function to train and evaluate a model for a given target\n",
    "def train_and_evaluate(target):\n",
    "    X_train = train_data[features]\n",
    "    y_train = train_data[target]\n",
    "    X_test = test_data[features]\n",
    "    y_test = test_data[target]\n",
    "    \n",
    "    # Train a Random Forest model\n",
    "    model = RandomForestRegressor(n_estimators=100, random_state=42)\n",
    "    model.fit(X_train, y_train)\n",
    "    \n",
    "    # Evaluate the model on the test set\n",
    "    predictions = model.predict(X_test)\n",
    "    mse = mean_squared_error(y_test, predictions)\n",
    "    r2 = r2_score(y_test, predictions)\n",
    "    print(f\"--- {target} ---\")\n",
    "    print(f\"Mean Squared Error: {mse:.4f}\")\n",
    "    print(f\"R2 Score: {r2:.4f}\\n\")\n",
    "    \n",
    "    return model"
   ]
  },
  {
   "cell_type": "code",
   "execution_count": 70,
   "id": "632f3800",
   "metadata": {},
   "outputs": [
    {
     "name": "stdout",
     "output_type": "stream",
     "text": [
      "--- PD ---\n",
      "Mean Squared Error: 0.0030\n",
      "R2 Score: 0.6648\n",
      "\n",
      "--- LGD ---\n",
      "Mean Squared Error: 0.0036\n",
      "R2 Score: 0.3884\n",
      "\n",
      "--- EAD ---\n",
      "Mean Squared Error: 3863247399.9849\n",
      "R2 Score: 0.5142\n",
      "\n"
     ]
    }
   ],
   "source": [
    "# Train models for each target\n",
    "model_PD = train_and_evaluate('PD')\n",
    "model_LGD = train_and_evaluate('LGD')\n",
    "model_EAD = train_and_evaluate('EAD')\n"
   ]
  },
  {
   "cell_type": "markdown",
   "id": "4696893c",
   "metadata": {},
   "source": [
    "## 3. Use ABC Corp Financial Statement Analyzer Outputs\n",
    "\n",
    "For ABC Corp, we have derived key financial ratios from the detailed balance sheet and income statement:\n",
    "\n",
    "- **Current Ratio:** 2.6\n",
    "- **Quick Ratio:** 1.8\n",
    "- **Net Profit Margin:** 0.234\n",
    "- **ROA:** 0.3545\n",
    "- **ROE:** 0.807\n",
    "- **Debt-to-Equity:** 1.28\n",
    "- **Asset Turnover:** 1.52\n",
    "\n",
    "We construct a feature vector for ABC Corp using these ratios.\n"
   ]
  },
  {
   "cell_type": "code",
   "execution_count": 71,
   "id": "1b82aa24",
   "metadata": {},
   "outputs": [],
   "source": [
    "# Create a DataFrame for ABC Corp using the derived ratios\n",
    "abc_data = pd.DataFrame({\n",
    "    'current_ratio': [2.6],\n",
    "    'quick_ratio': [1.8],\n",
    "    'net_profit_margin': [0.234],\n",
    "    'ROA': [0.3545],\n",
    "    'ROE': [0.807],\n",
    "    'debt_to_equity': [1.28],\n",
    "    'asset_turnover': [1.52]\n",
    "})\n"
   ]
  },
  {
   "cell_type": "markdown",
   "id": "42e894ca",
   "metadata": {},
   "source": [
    "## 4. Predict PD, LGD, and EAD for ABC Corp\n",
    "Using the previously trained models, we now predict the risk parameters for ABC Corp.\n"
   ]
  },
  {
   "cell_type": "code",
   "execution_count": 74,
   "id": "e14d12d5",
   "metadata": {},
   "outputs": [],
   "source": [
    "# Predict risk parameters for ABC Corp\n",
    "abc_pd = model_PD.predict(abc_data)[0]\n",
    "abc_lgd = model_LGD.predict(abc_data)[0]\n",
    "abc_ead = model_EAD.predict(abc_data)[0]"
   ]
  },
  {
   "cell_type": "code",
   "execution_count": 75,
   "id": "9eca7936",
   "metadata": {},
   "outputs": [],
   "source": [
    "# Calculate Expected Loss (EL)\n",
    "abc_expected_loss = abc_pd * abc_lgd * abc_ead\n"
   ]
  },
  {
   "cell_type": "code",
   "execution_count": 76,
   "id": "86e72e1c",
   "metadata": {},
   "outputs": [
    {
     "name": "stdout",
     "output_type": "stream",
     "text": [
      "ABC Corp Credit Risk Estimates:\n",
      "Probability of Default (PD): 0.2061\n",
      "Loss Given Default (LGD): 0.6224\n",
      "Exposure at Default (EAD): $801,013.94\n",
      "Expected Loss (EL): $102,779.56\n"
     ]
    }
   ],
   "source": [
    "print(\"ABC Corp Credit Risk Estimates:\")\n",
    "print(f\"Probability of Default (PD): {abc_pd:.4f}\")\n",
    "print(f\"Loss Given Default (LGD): {abc_lgd:.4f}\")\n",
    "print(f\"Exposure at Default (EAD): ${abc_ead:,.2f}\")\n",
    "print(f\"Expected Loss (EL): ${abc_expected_loss:,.2f}\")\n"
   ]
  },
  {
   "cell_type": "markdown",
   "id": "8103540f",
   "metadata": {},
   "source": [
    "## 5. Visualization of Model Performance\n",
    "\n",
    "For a quick visual evaluation, we plot actual vs. predicted values on the test set for each risk parameter.\n"
   ]
  },
  {
   "cell_type": "code",
   "execution_count": 77,
   "id": "9a96b94b",
   "metadata": {},
   "outputs": [
    {
     "data": {
      "image/png": "[encoded data removed]",
      "text/plain": [
       "<Figure size 1800x400 with 3 Axes>"
      ]
     },
     "metadata": {},
     "output_type": "display_data"
    }
   ],
   "source": [
    "fig, axs = plt.subplots(1, 3, figsize=(18, 4))\n",
    "\n",
    "# PD Plot\n",
    "pred_PD = model_PD.predict(test_data[features])\n",
    "axs[0].scatter(test_data['PD'], pred_PD)\n",
    "axs[0].plot([test_data['PD'].min(), test_data['PD'].max()],\n",
    "            [test_data['PD'].min(), test_data['PD'].max()],\n",
    "            color='red', linestyle='--')\n",
    "axs[0].set_title('Actual vs Predicted PD')\n",
    "axs[0].set_xlabel('Actual PD')\n",
    "axs[0].set_ylabel('Predicted PD')\n",
    "\n",
    "# LGD Plot\n",
    "pred_LGD = model_LGD.predict(test_data[features])\n",
    "axs[1].scatter(test_data['LGD'], pred_LGD)\n",
    "axs[1].plot([test_data['LGD'].min(), test_data['LGD'].max()],\n",
    "            [test_data['LGD'].min(), test_data['LGD'].max()],\n",
    "            color='red', linestyle='--')\n",
    "axs[1].set_title('Actual vs Predicted LGD')\n",
    "axs[1].set_xlabel('Actual LGD')\n",
    "axs[1].set_ylabel('Predicted LGD')\n",
    "\n",
    "# EAD Plot\n",
    "pred_EAD = model_EAD.predict(test_data[features])\n",
    "axs[2].scatter(test_data['EAD'], pred_EAD)\n",
    "axs[2].plot([test_data['EAD'].min(), test_data['EAD'].max()],\n",
    "            [test_data['EAD'].min(), test_data['EAD'].max()],\n",
    "            color='red', linestyle='--')\n",
    "axs[2].set_title('Actual vs Predicted EAD')\n",
    "axs[2].set_xlabel('Actual EAD')\n",
    "axs[2].set_ylabel('Predicted EAD')\n",
    "\n",
    "plt.tight_layout()\n",
    "plt.show()"
   ]
  },
  {
   "cell_type": "markdown",
   "id": "c1bcffd7",
   "metadata": {},
   "source": [
    "## Summary\n",
    "\n",
    "In this notebook:\n",
    "\n",
    "- We simulated financial statement data and generated synthetic targets for PD, LGD, and EAD.\n",
    "- We trained Random Forest models for each risk parameter.\n",
    "- We used the derived financial ratios for ABC Corp (from the Financial Statement Analyzer outputs) as input features.\n",
    "- We predicted PD, LGD, and EAD for ABC Corp and calculated the Expected Loss (EL).\n",
    "\n",
    "This integrated approach demonstrates how to use detailed financial statement outputs to drive data-driven credit risk assessments.\n"
   ]
  },
  {
   "cell_type": "code",
   "execution_count": null,
   "id": "05fe587c",
   "metadata": {},
   "outputs": [],
   "source": []
  },
  {
   "cell_type": "code",
   "execution_count": null,
   "id": "38d2f4bb",
   "metadata": {},
   "outputs": [],
   "source": []
  }
 ],
 "metadata": {
  "kernelspec": {
   "display_name": "Python 3 (ipykernel)",
   "language": "python",
   "name": "python3"
  },
  "language_info": {
   "codemirror_mode": {
    "name": "ipython",
    "version": 3
   },
   "file_extension": ".py",
   "mimetype": "text/x-python",
   "name": "python",
   "nbconvert_exporter": "python",
   "pygments_lexer": "ipython3",
   "version": "3.9.13"
  }
 },
 "nbformat": 4,
 "nbformat_minor": 5
}
